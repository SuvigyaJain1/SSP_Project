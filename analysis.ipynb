{
 "cells": [
  {
   "cell_type": "markdown",
   "metadata": {},
   "source": [
    "# Software and Systems Performance - Project \n",
    "Coverage Analysis of YCSB benchmark tool for Mongodb Database"
   ]
  },
  {
   "cell_type": "code",
   "execution_count": 1,
   "metadata": {},
   "outputs": [],
   "source": [
    "import matplotlib.pyplot as plt\n",
    "import json"
   ]
  },
  {
   "cell_type": "markdown",
   "metadata": {},
   "source": [
    "## Overall line coverage\n",
    "<img src=\"ss.png\"/>"
   ]
  },
  {
   "cell_type": "code",
   "execution_count": 2,
   "metadata": {},
   "outputs": [
    {
     "name": "stdout",
     "output_type": "stream",
     "text": [
      "dict_keys(['lines', 'functions', 'file'])\n"
     ]
    }
   ],
   "source": [
    "with open('json_outputs_with_branch/mongod_main.gcov.json' ,'r') as f:\n",
    "    data=json.load(f)\n",
    "    data=data['files']\n",
    "    print(data[0].keys())"
   ]
  },
  {
   "cell_type": "code",
   "execution_count": 3,
   "metadata": {},
   "outputs": [],
   "source": [
    "def gen_demangled_index(data):\n",
    "    demangled_index={}\n",
    "    for function in data['functions']:\n",
    "        demangled_index[function['name']]=function['demangled_name']\n",
    "    return demangled_index\n",
    "demangled_index=(gen_demangled_index(data[0]))\n"
   ]
  },
  {
   "cell_type": "code",
   "execution_count": 4,
   "metadata": {},
   "outputs": [
    {
     "data": {
      "text/plain": [
       "{'branches': [],\n",
       " 'count': 6,\n",
       " 'line_number': 265,\n",
       " 'unexecuted_block': False,\n",
       " 'function_name': '_ZN5mongo12_GLOBAL__N_110logStartupEPNS_16OperationContextE'}"
      ]
     },
     "execution_count": 4,
     "metadata": {},
     "output_type": "execute_result"
    }
   ],
   "source": [
    "data[0]['lines'][0]"
   ]
  },
  {
   "cell_type": "markdown",
   "metadata": {},
   "source": [
    "#### data[i]['lines'] has the data of every line of file i. "
   ]
  },
  {
   "cell_type": "code",
   "execution_count": 5,
   "metadata": {},
   "outputs": [
    {
     "data": {
      "text/plain": [
       "(455, 728)"
      ]
     },
     "execution_count": 5,
     "metadata": {},
     "output_type": "execute_result"
    }
   ],
   "source": [
    "def get_line_coverage(data):\n",
    "    cnt=0\n",
    "    for file in data:\n",
    "        if file['file'].endswith('.cpp'):\n",
    "            for line in file['lines']:\n",
    "                if(line['count']>0):\n",
    "                    cnt+=1\n",
    "            return (cnt,len(file['lines']))\n",
    "get_line_coverage(data)"
   ]
  },
  {
   "cell_type": "code",
   "execution_count": 6,
   "metadata": {},
   "outputs": [
    {
     "name": "stdout",
     "output_type": "stream",
     "text": [
      "src/mongo/db/mongod_main.cpp\n",
      "279 1\n"
     ]
    }
   ],
   "source": [
    "\n",
    "h_files=0\n",
    "cpp_files=0\n",
    "for file in data:\n",
    "    if file['file'].endswith('.h') or file['file'].endswith('.hpp'):\n",
    "        h_files+=1\n",
    "    else:\n",
    "        cpp_files+=1\n",
    "        print(file['file'])\n",
    "\n",
    "print(h_files,cpp_files)"
   ]
  },
  {
   "cell_type": "code",
   "execution_count": 10,
   "metadata": {},
   "outputs": [
    {
     "name": "stdout",
     "output_type": "stream",
     "text": [
      "src/mongo/db/mongod_main.cpp\n"
     ]
    }
   ],
   "source": [
    "# Get the cpp file data and ignore the .h file data\n",
    "\n",
    "CPP_FILE=None\n",
    "for file in data:\n",
    "    if file['file'].endswith('.h') or file['file'].endswith('.hpp'):\n",
    "        continue\n",
    "    else:\n",
    "        print(file['file'])\n",
    "        CPP_FILE  = file\n"
   ]
  },
  {
   "cell_type": "markdown",
   "metadata": {},
   "source": [
    "The number of cpp files in a gcov file is just 1 while the remaining files in the data are all header files. We will find line coverage only for the cpp files"
   ]
  },
  {
   "cell_type": "code",
   "execution_count": 8,
   "metadata": {},
   "outputs": [
    {
     "data": {
      "text/plain": [
       "(19, 31)"
      ]
     },
     "execution_count": 8,
     "metadata": {},
     "output_type": "execute_result"
    }
   ],
   "source": [
    "def get_function_coverage(data):\n",
    "    cnt=0\n",
    "    for file in data:\n",
    "        if file['file'].endswith('.cpp'):\n",
    "            for function in file['functions']:\n",
    "                if(function['execution_count']>0):\n",
    "                    cnt+=1\n",
    "            return (cnt,len(file['functions']))\n",
    "get_function_coverage(data)\n"
   ]
  },
  {
   "cell_type": "markdown",
   "metadata": {},
   "source": [
    "#### To find the top 3 lengthiest unexecuted functions in the .cpp file\n"
   ]
  },
  {
   "cell_type": "code",
   "execution_count": 10,
   "metadata": {},
   "outputs": [
    {
     "data": {
      "text/plain": [
       "[('mongo::(anonymous namespace)::shutdownProcessByDBPathPidFile(std::__cxx11::basic_string<char, std::char_traits<char>, std::allocator<char> > const&)',\n",
       "  55),\n",
       " ('mongo::(anonymous namespace)::makeReplicaSetNodeExecutor(mongo::ServiceContext*)',\n",
       "  15),\n",
       " ('mongo::(anonymous namespace)::initializeCommandHooks(mongo::ServiceContext*)::MongodCommandInvocationHooks::onAfterAsyncRun(std::shared_ptr<mongo::RequestExecutionContext>, mongo::CommandInvocation*)',\n",
       "  5)]"
      ]
     },
     "execution_count": 10,
     "metadata": {},
     "output_type": "execute_result"
    }
   ],
   "source": [
    "def get_longest_unused_functions(data):\n",
    "    unex_func=[]\n",
    "    for file in data:\n",
    "        if file['file'].endswith('.cpp'):\n",
    "            for function in file['functions']:\n",
    "                if(function['execution_count']==0):\n",
    "                    unex_func.append((function['demangled_name'],function['end_line']-function['start_line']+1))\n",
    "            unex_func=sorted(unex_func,key=lambda x:-x[1])\n",
    "            return unex_func[:3]\n",
    "get_longest_unused_functions(data)"
   ]
  },
  {
   "cell_type": "markdown",
   "metadata": {},
   "source": [
    "### Branch Coverage "
   ]
  },
  {
   "cell_type": "markdown",
   "metadata": {},
   "source": [
    "#### Sample Branch JSON\n",
    "It has 3 fields:\n",
    "* fallthrough: \n",
    "    * True - Control moves to next line after executing the branch\n",
    "    * False - Control jumps to another line (Branch taken)\n",
    "* Count: Number of times the branch condition was evaluated\n",
    "* Throw: If branch throws an exception "
   ]
  },
  {
   "cell_type": "code",
   "execution_count": 14,
   "metadata": {},
   "outputs": [
    {
     "name": "stdout",
     "output_type": "stream",
     "text": [
      "{'fallthrough': True, 'count': 6, 'throw': False}\n"
     ]
    }
   ],
   "source": [
    "Flag = False\n",
    "for line in CPP_FILE['lines']:\n",
    "    for branch in line['branches']:\n",
    "        Flag = True\n",
    "        print(branch)\n",
    "        break\n",
    "    if Flag:\n",
    "        break"
   ]
  },
  {
   "cell_type": "code",
   "execution_count": null,
   "metadata": {},
   "outputs": [],
   "source": [
    "# A branch must have nonzero counts for both fallthrough=True and fallthrough=False to have 100% coverage\n",
    "def get_branch_coverage(file):\n",
    "    NUM_BRANCHES = 0\n",
    "    BRANCHES_TAKEN = 0\n",
    "    for line in file['lines']:\n",
    "        if not line['branches']:\n",
    "            continue\n",
    "        \n",
    "        NUM_BRANCHES += 2\n",
    "        branches_taken = {\n",
    "            \"fallthrough\": False,\n",
    "            \"jump\": False\n",
    "        }\n",
    "        for branch in line['branches']:\n",
    "            if branch['fallthrough'] and branch['count'] != 0:\n",
    "                branches_taken['fallthrough'] = True\n",
    "            \n",
    "            elif (not branch['fallthrough']) and branch['count'] != 0:\n",
    "                branches_taken['jump'] = True\n",
    "\n",
    "        if branches_taken['fallthrough']:\n",
    "            BRANCHES_TAKEN += 1\n",
    "        if branches_taken['jump']:\n",
    "            BRANCHES_TAKEN += 1\n",
    "    \n",
    "    return BRANCHES_TAKEN, NUM_BRANCHES\n",
    "        "
   ]
  },
  {
   "cell_type": "code",
   "execution_count": null,
   "metadata": {},
   "outputs": [],
   "source": []
  }
 ],
 "metadata": {
  "kernelspec": {
   "display_name": "Python 3.10.8 64-bit",
   "language": "python",
   "name": "python3"
  },
  "language_info": {
   "codemirror_mode": {
    "name": "ipython",
    "version": 3
   },
   "file_extension": ".py",
   "mimetype": "text/x-python",
   "name": "python",
   "nbconvert_exporter": "python",
   "pygments_lexer": "ipython3",
   "version": "3.10.7"
  },
  "orig_nbformat": 4,
  "vscode": {
   "interpreter": {
    "hash": "e7370f93d1d0cde622a1f8e1c04877d8463912d04d973331ad4851f04de6915a"
   }
  }
 },
 "nbformat": 4,
 "nbformat_minor": 2
}
