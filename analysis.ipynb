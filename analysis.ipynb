{
 "cells": [
  {
   "cell_type": "code",
   "execution_count": 2,
   "metadata": {},
   "outputs": [],
   "source": [
    "import matplotlib.pyplot as plt\n",
    "import json"
   ]
  },
  {
   "cell_type": "markdown",
   "metadata": {},
   "source": [
    "## Overall line coverage\n",
    "<img src=\"ss.png\"/>"
   ]
  },
  {
   "cell_type": "code",
   "execution_count": 34,
   "metadata": {},
   "outputs": [
    {
     "name": "stdout",
     "output_type": "stream",
     "text": [
      "dict_keys(['lines', 'functions', 'file'])\n"
     ]
    }
   ],
   "source": [
    "with open('json_outputs/mongod_main.gcov.json' ,'r') as f:\n",
    "    data=json.load(f)\n",
    "    data=data['files']\n",
    "    print(data[0].keys())"
   ]
  },
  {
   "cell_type": "code",
   "execution_count": 20,
   "metadata": {},
   "outputs": [],
   "source": [
    "def gen_demangled_index(data):\n",
    "    demangled_index={}\n",
    "    for function in data['functions']:\n",
    "        demangled_index[function['name']]=function['demangled_name']\n",
    "    return demangled_index\n",
    "demangled_index=(gen_demangled_index(data[0]))\n"
   ]
  },
  {
   "cell_type": "code",
   "execution_count": 21,
   "metadata": {},
   "outputs": [
    {
     "data": {
      "text/plain": [
       "{'branches': [],\n",
       " 'count': 6,\n",
       " 'line_number': 265,\n",
       " 'unexecuted_block': False,\n",
       " 'function_name': '_ZN5mongo12_GLOBAL__N_110logStartupEPNS_16OperationContextE'}"
      ]
     },
     "execution_count": 21,
     "metadata": {},
     "output_type": "execute_result"
    }
   ],
   "source": [
    "data[0]['lines'][0]"
   ]
  },
  {
   "cell_type": "markdown",
   "metadata": {},
   "source": [
    "#### data[i]['lines'] has the data of every line of file i. "
   ]
  },
  {
   "cell_type": "code",
   "execution_count": 36,
   "metadata": {},
   "outputs": [
    {
     "data": {
      "text/plain": [
       "(455, 728)"
      ]
     },
     "execution_count": 36,
     "metadata": {},
     "output_type": "execute_result"
    }
   ],
   "source": [
    "def get_line_coverage(data):\n",
    "    cnt=0\n",
    "    for file in data:\n",
    "        if file['file'].endswith('.cpp'):\n",
    "            for line in file['lines']:\n",
    "                if(line['count']>0):\n",
    "                    cnt+=1\n",
    "            return (cnt,len(file['lines']))\n",
    "get_line_coverage(data)"
   ]
  },
  {
   "cell_type": "code",
   "execution_count": 28,
   "metadata": {},
   "outputs": [
    {
     "name": "stdout",
     "output_type": "stream",
     "text": [
      "21 1\n"
     ]
    }
   ],
   "source": [
    "\n",
    "h_files=0\n",
    "cpp_files=0\n",
    "for file in data:\n",
    "    if file['file'].endswith('.h') or file['file'].endswith('.hpp'):\n",
    "        h_files+=1\n",
    "    else:\n",
    "        cpp_files+=1\n",
    "\n",
    "print(h_files,cpp_files)"
   ]
  },
  {
   "cell_type": "markdown",
   "metadata": {},
   "source": [
    "The number of cpp files in a gcov file is just 1 while the remaining files in the data are all header files. We will find line coverage only for the cpp files"
   ]
  },
  {
   "cell_type": "code",
   "execution_count": 38,
   "metadata": {},
   "outputs": [
    {
     "data": {
      "text/plain": [
       "(19, 31)"
      ]
     },
     "execution_count": 38,
     "metadata": {},
     "output_type": "execute_result"
    }
   ],
   "source": [
    "def get_function_coverage(data):\n",
    "    cnt=0\n",
    "    for file in data:\n",
    "        if file['file'].endswith('.cpp'):\n",
    "            for function in file['functions']:\n",
    "                if(function['execution_count']>0):\n",
    "                    cnt+=1\n",
    "            return (cnt,len(file['functions']))\n",
    "get_function_coverage(data)\n"
   ]
  },
  {
   "cell_type": "markdown",
   "metadata": {},
   "source": [
    "#### To find the top 3 lengthiest unexecuted functions in the .cpp file\n"
   ]
  },
  {
   "cell_type": "code",
   "execution_count": 48,
   "metadata": {},
   "outputs": [
    {
     "data": {
      "text/plain": [
       "[('mongo::(anonymous namespace)::shutdownProcessByDBPathPidFile(std::__cxx11::basic_string<char, std::char_traits<char>, std::allocator<char> > const&)',\n",
       "  54),\n",
       " ('mongo::(anonymous namespace)::makeReplicaSetNodeExecutor(mongo::ServiceContext*)',\n",
       "  14),\n",
       " ('mongo::(anonymous namespace)::initializeCommandHooks(mongo::ServiceContext*)::MongodCommandInvocationHooks::onAfterAsyncRun(std::shared_ptr<mongo::RequestExecutionContext>, mongo::CommandInvocation*)',\n",
       "  4)]"
      ]
     },
     "execution_count": 48,
     "metadata": {},
     "output_type": "execute_result"
    }
   ],
   "source": [
    "def get_longest_unused_functions(data):\n",
    "    unex_func=[]\n",
    "    for file in data:\n",
    "        if file['file'].endswith('.cpp'):\n",
    "            for function in file['functions']:\n",
    "                if(function['execution_count']==0):\n",
    "                    unex_func.append((function['demangled_name'],function['end_line']-function['start_line']))\n",
    "            unex_func=sorted(unex_func,key=lambda x:-x[1])\n",
    "            return unex_func[:3]\n",
    "get_longest_unused_functions(data)"
   ]
  },
  {
   "cell_type": "code",
   "execution_count": null,
   "metadata": {},
   "outputs": [],
   "source": []
  }
 ],
 "metadata": {
  "kernelspec": {
   "display_name": "Python 3.10.8 64-bit",
   "language": "python",
   "name": "python3"
  },
  "language_info": {
   "codemirror_mode": {
    "name": "ipython",
    "version": 3
   },
   "file_extension": ".py",
   "mimetype": "text/x-python",
   "name": "python",
   "nbconvert_exporter": "python",
   "pygments_lexer": "ipython3",
   "version": "3.10.8"
  },
  "orig_nbformat": 4,
  "vscode": {
   "interpreter": {
    "hash": "e7370f93d1d0cde622a1f8e1c04877d8463912d04d973331ad4851f04de6915a"
   }
  }
 },
 "nbformat": 4,
 "nbformat_minor": 2
}
